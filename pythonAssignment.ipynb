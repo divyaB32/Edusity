{
  "nbformat": 4,
  "nbformat_minor": 0,
  "metadata": {
    "colab": {
      "provenance": [],
      "authorship_tag": "ABX9TyNoQwsI6XeLeL7JHfIvueB4",
      "include_colab_link": true
    },
    "kernelspec": {
      "name": "python3",
      "display_name": "Python 3"
    },
    "language_info": {
      "name": "python"
    }
  },
  "cells": [
    {
      "cell_type": "markdown",
      "metadata": {
        "id": "view-in-github",
        "colab_type": "text"
      },
      "source": [
        "<a href=\"https://colab.research.google.com/github/divyaB32/Edusity/blob/main/pythonAssignment.ipynb\" target=\"_parent\"><img src=\"https://colab.research.google.com/assets/colab-badge.svg\" alt=\"Open In Colab\"/></a>"
      ]
    },
    {
      "cell_type": "code",
      "source": [
        "age=int(input(\"Enter the age of the visitor:\"))\n",
        "if age>=0 and age<=12:\n",
        "  res=\"child\"\n",
        "elif age>=13 and age<=19:\n",
        "  res=\"Teenager\"\n",
        "elif age>=20 and age<=59:\n",
        "  res=\"Adult\"\n",
        "elif age>=60:\n",
        "  res=\"Senior Citizen\"\n",
        "print(res)\n"
      ],
      "metadata": {
        "colab": {
          "base_uri": "https://localhost:8080/"
        },
        "id": "s58QmZ2PwT3Q",
        "outputId": "47270926-034d-431c-a30f-dcf1b06a41e4"
      },
      "execution_count": null,
      "outputs": [
        {
          "output_type": "stream",
          "name": "stdout",
          "text": [
            "Enter the age of the visitor:50\n",
            "Adult\n"
          ]
        }
      ]
    },
    {
      "cell_type": "code",
      "source": [
        "import datetime\n",
        "\n",
        "def display_menu():\n",
        "    print(\"\\nOptions:\")\n",
        "    print(\"1. Add Task\")\n",
        "    print(\"2. Remove Task\")\n",
        "    print(\"3. View Tasks\")\n",
        "    print(\"4. Exit\")\n",
        "\n",
        "def add_task(tasks):\n",
        "    task = input(\"Enter the task description: \").strip()\n",
        "    if any(task.lower() == t['task'].lower() for t in tasks):\n",
        "        print(\"Task already exists! Please enter a different task.\")\n",
        "    else:\n",
        "        priority = input(\"Enter priority (High/Medium/Low): \").capitalize()\n",
        "        timestamp = datetime.datetime.now().strftime(\"%Y-%m-%d %H:%M:%S\")\n",
        "        tasks.append({'task': task, 'priority': priority, 'timestamp': timestamp})\n",
        "        print(\"Task added successfully.\")\n",
        "\n",
        "def remove_task(tasks):\n",
        "    if not tasks:\n",
        "        print(\"No tasks to remove.\")\n",
        "        return\n",
        "    view_tasks(tasks)\n",
        "    try:\n",
        "        task_num = int(input(\"Enter the task number to remove: \"))\n",
        "        if 1 <= task_num <= len(tasks):\n",
        "            removed = tasks.pop(task_num - 1)\n",
        "            print(f\"Task '{removed['task']}' removed successfully.\")\n",
        "        else:\n",
        "            print(\"Invalid task number.\")\n",
        "    except ValueError:\n",
        "        print(\"Please enter a valid number.\")\n",
        "\n",
        "def view_tasks(tasks):\n",
        "    if not tasks:\n",
        "        print(\"No pending tasks.\")\n",
        "        return\n",
        "    print(\"\\nPending Tasks:\")\n",
        "    for idx, task in enumerate(tasks, start=1):\n",
        "        print(f\"{idx}. {task['task']} [Priority: {task['priority']}] (Added on: {task['timestamp']})\")\n",
        "\n",
        "def main():\n",
        "    tasks = []\n",
        "    while True:\n",
        "        display_menu()\n",
        "        choice = input(\"Enter your choice (1-4): \").strip()\n",
        "        if choice == '1':\n",
        "            add_task(tasks)\n",
        "        elif choice == '2':\n",
        "            remove_task(tasks)\n",
        "        elif choice == '3':\n",
        "            view_tasks(tasks)\n",
        "        elif choice == '4':\n",
        "            print(\"Goodbye! Thanks for using the To-Do List Manager.\")\n",
        "            break\n",
        "        else:\n",
        "            print(\"Invalid choice. Please enter a number between 1 and 4.\")\n",
        "\n",
        "if __name__ == \"__main__\":\n",
        "    main()\n"
      ],
      "metadata": {
        "colab": {
          "base_uri": "https://localhost:8080/"
        },
        "id": "3JFDx5BkdQEs",
        "outputId": "0df52c3c-8856-4816-86fd-d8503d7a5419"
      },
      "execution_count": null,
      "outputs": [
        {
          "output_type": "stream",
          "name": "stdout",
          "text": [
            "\n",
            "Options:\n",
            "1. Add Task\n",
            "2. Remove Task\n",
            "3. View Tasks\n",
            "4. Exit\n",
            "Enter your choice (1-4): 1\n",
            "Enter the task description: assignment\n",
            "Enter priority (High/Medium/Low): high\n",
            "Task added successfully.\n",
            "\n",
            "Options:\n",
            "1. Add Task\n",
            "2. Remove Task\n",
            "3. View Tasks\n",
            "4. Exit\n",
            "Enter your choice (1-4): 1\n",
            "Enter the task description: project\n",
            "Enter priority (High/Medium/Low): high\n",
            "Task added successfully.\n",
            "\n",
            "Options:\n",
            "1. Add Task\n",
            "2. Remove Task\n",
            "3. View Tasks\n",
            "4. Exit\n",
            "Enter your choice (1-4): 1\n",
            "Enter the task description: seminar\n",
            "Enter priority (High/Medium/Low): medium\n",
            "Task added successfully.\n",
            "\n",
            "Options:\n",
            "1. Add Task\n",
            "2. Remove Task\n",
            "3. View Tasks\n",
            "4. Exit\n",
            "Enter your choice (1-4): 2\n",
            "\n",
            "Pending Tasks:\n",
            "1. assignment [Priority: High] (Added on: 2025-04-07 08:55:35)\n",
            "2. project [Priority: High] (Added on: 2025-04-07 08:55:54)\n",
            "3. seminar [Priority: Medium] (Added on: 2025-04-07 08:56:12)\n",
            "Enter the task number to remove: 2\n",
            "Task 'project' removed successfully.\n",
            "\n",
            "Options:\n",
            "1. Add Task\n",
            "2. Remove Task\n",
            "3. View Tasks\n",
            "4. Exit\n"
          ]
        }
      ]
    },
    {
      "cell_type": "code",
      "execution_count": null,
      "metadata": {
        "colab": {
          "base_uri": "https://localhost:8080/"
        },
        "id": "HJLqQqLSwNMG",
        "outputId": "772e8910-d24b-42b9-f6d5-6670f5b6d072"
      },
      "outputs": [
        {
          "output_type": "stream",
          "name": "stdout",
          "text": [
            "Enter the number of limit5\n",
            "0 1 1 2 3 "
          ]
        }
      ],
      "source": [
        "def fibonacci(n):\n",
        "  a=0\n",
        "  b=1\n",
        "  for i in range(n):\n",
        "    print(a, end=\" \")\n",
        "    a,b=b,a+b\n",
        "num=int(input(\"Enter the number of limit\"))\n",
        "fibonacci(num)"
      ]
    },
    {
      "cell_type": "code",
      "source": [
        "year=int(input(\"Enter the year to check: \"))\n",
        "if year%4==0 and year%100!=0 or year%4==0:\n",
        "  print(\"Leap Year\")\n",
        "else:\n",
        "  print(\"Not leap year\")"
      ],
      "metadata": {
        "colab": {
          "base_uri": "https://localhost:8080/"
        },
        "id": "_WoYvjsJ0luD",
        "outputId": "6b463c94-93e0-4b8f-ee3c-4f1c12ced71f"
      },
      "execution_count": null,
      "outputs": [
        {
          "output_type": "stream",
          "name": "stdout",
          "text": [
            "Enter the year to check: 2025\n",
            "Not leap year\n"
          ]
        }
      ]
    },
    {
      "cell_type": "code",
      "source": [
        "def is_palindrome(s):\n",
        "  return s==s[::-1]\n",
        "string=input(\"Enter the string:\").lower()\n",
        "if is_palindrome(string):\n",
        "  print(\"Palindrome\")\n",
        "else:\n",
        "  print(\"Not Plaindrome\")"
      ],
      "metadata": {
        "colab": {
          "base_uri": "https://localhost:8080/"
        },
        "id": "LimiNY8G1jT6",
        "outputId": "c54a3553-4b2c-4ded-ac67-c61f5c01c2e6"
      },
      "execution_count": null,
      "outputs": [
        {
          "output_type": "stream",
          "name": "stdout",
          "text": [
            "Enter the string:mam\n",
            "Palindrome\n"
          ]
        }
      ]
    }
  ]
}